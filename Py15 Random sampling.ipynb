{
 "cells": [
  {
   "cell_type": "code",
   "execution_count": 1,
   "metadata": {},
   "outputs": [
    {
     "name": "stdout",
     "output_type": "stream",
     "text": [
      "Random Sample with NumPy:\n",
      "[ 26  35  13  74  69  30  89 100  62  23]\n"
     ]
    }
   ],
   "source": [
    "import numpy as np\n",
    "\n",
    "# Example 1: Random sampling with NumPy\n",
    "data = np.arange(1, 101)  # Create an array from 1 to 100\n",
    "sample_size = 10\n",
    "\n",
    "random_sample = np.random.choice(data, size=sample_size, replace=False)\n",
    "print(\"Random Sample with NumPy:\")\n",
    "print(random_sample)\n"
   ]
  },
  {
   "cell_type": "code",
   "execution_count": 2,
   "metadata": {},
   "outputs": [
    {
     "name": "stdout",
     "output_type": "stream",
     "text": [
      "Random Sample with random module:\n",
      "[41, 17, 14, 52, 69, 87, 19, 98, 34, 99, 79, 53, 100, 82, 86]\n"
     ]
    }
   ],
   "source": [
    "import random\n",
    "\n",
    "# Example 2: Random sampling with Python's random module\n",
    "data = list(range(1, 101))  # Create a list from 1 to 100\n",
    "sample_size = 15\n",
    "\n",
    "random_sample = random.sample(data, sample_size)\n",
    "print(\"Random Sample with random module:\")\n",
    "print(random_sample)\n"
   ]
  },
  {
   "cell_type": "code",
   "execution_count": 3,
   "metadata": {},
   "outputs": [
    {
     "name": "stdout",
     "output_type": "stream",
     "text": [
      "Random Sample with Pandas:\n",
      "[12, 24, 89, 93, 36, 9, 17, 46, 72, 64, 88, 79, 16, 15, 69, 82, 1, 96, 54, 5]\n"
     ]
    }
   ],
   "source": [
    "import pandas as pd\n",
    "\n",
    "# Example 3: Random sampling with Pandas\n",
    "data = pd.DataFrame({'A': range(1, 101)})  # Create a DataFrame with a column 'A' from 1 to 100\n",
    "sample_size = 20\n",
    "\n",
    "random_sample = data.sample(n=sample_size, replace=False)\n",
    "print(\"Random Sample with Pandas:\")\n",
    "print(random_sample['A'].tolist())\n"
   ]
  },
  {
   "cell_type": "code",
   "execution_count": 4,
   "metadata": {},
   "outputs": [
    {
     "name": "stdout",
     "output_type": "stream",
     "text": [
      "Stratified Random Sample with Scikit-learn:\n",
      "[1, 5, 6, 4]\n"
     ]
    }
   ],
   "source": [
    "from sklearn.model_selection import train_test_split\n",
    "\n",
    "# Example 4: Stratified random sampling with Scikit-learn\n",
    "data = pd.DataFrame({'Category': ['A', 'B', 'A', 'B', 'A', 'B'], 'Value': range(1, 7)})\n",
    "\n",
    "stratified_sample = data.groupby('Category', group_keys=False).apply(lambda x: x.sample(2))\n",
    "print(\"Stratified Random Sample with Scikit-learn:\")\n",
    "print(stratified_sample['Value'].tolist())\n"
   ]
  },
  {
   "cell_type": "code",
   "execution_count": 5,
   "metadata": {},
   "outputs": [
    {
     "name": "stdout",
     "output_type": "stream",
     "text": [
      "Random Sample with Replacement:\n",
      "[73 14 23 90 91 22 27 86  8 15 85 99 76 89 56]\n"
     ]
    }
   ],
   "source": [
    "import numpy as np\n",
    "\n",
    "# Example 5: Random sampling with replacement\n",
    "data = np.arange(1, 101)  # Create an array from 1 to 100\n",
    "sample_size = 15\n",
    "\n",
    "random_sample_with_replacement = np.random.choice(data, size=sample_size, replace=True)\n",
    "print(\"Random Sample with Replacement:\")\n",
    "print(random_sample_with_replacement)\n"
   ]
  }
 ],
 "metadata": {
  "kernelspec": {
   "display_name": "Python 3",
   "language": "python",
   "name": "python3"
  },
  "language_info": {
   "codemirror_mode": {
    "name": "ipython",
    "version": 3
   },
   "file_extension": ".py",
   "mimetype": "text/x-python",
   "name": "python",
   "nbconvert_exporter": "python",
   "pygments_lexer": "ipython3",
   "version": "3.7.6"
  }
 },
 "nbformat": 4,
 "nbformat_minor": 4
}
