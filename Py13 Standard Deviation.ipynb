{
 "cells": [
  {
   "cell_type": "code",
   "execution_count": 1,
   "metadata": {},
   "outputs": [
    {
     "name": "stdout",
     "output_type": "stream",
     "text": [
      "Standard Deviation: 7.0710678118654755\n"
     ]
    }
   ],
   "source": [
    "import numpy as np\n",
    "\n",
    "# Example 1: Using NumPy for standard deviation\n",
    "data = np.array([10, 15, 20, 25, 30])\n",
    "\n",
    "# Standard Deviation\n",
    "std_deviation = np.std(data)\n",
    "print(\"Standard Deviation:\", std_deviation)\n"
   ]
  },
  {
   "cell_type": "code",
   "execution_count": 2,
   "metadata": {},
   "outputs": [
    {
     "name": "stdout",
     "output_type": "stream",
     "text": [
      "Standard Deviation: 7.905694150420948\n"
     ]
    }
   ],
   "source": [
    "import statistics\n",
    "\n",
    "# Example 2: Using statistics module for standard deviation\n",
    "data = [10, 15, 20, 25, 30]\n",
    "\n",
    "# Standard Deviation\n",
    "std_deviation = statistics.stdev(data)\n",
    "print(\"Standard Deviation:\", std_deviation)\n"
   ]
  },
  {
   "cell_type": "code",
   "execution_count": 3,
   "metadata": {},
   "outputs": [
    {
     "name": "stdout",
     "output_type": "stream",
     "text": [
      "Standard Deviation: 7.905694150420948\n"
     ]
    }
   ],
   "source": [
    "import pandas as pd\n",
    "\n",
    "# Example 3: Using Pandas for standard deviation\n",
    "data = pd.Series([10, 15, 20, 25, 30])\n",
    "\n",
    "# Standard Deviation\n",
    "std_deviation = data.std()\n",
    "print(\"Standard Deviation:\", std_deviation)\n"
   ]
  },
  {
   "cell_type": "code",
   "execution_count": 4,
   "metadata": {},
   "outputs": [
    {
     "name": "stdout",
     "output_type": "stream",
     "text": [
      "Standard Deviation: 7.905694150420948\n"
     ]
    }
   ],
   "source": [
    "from scipy import stats\n",
    "\n",
    "# Example 4: Using Scipy for standard deviation\n",
    "data = [10, 15, 20, 25, 30]\n",
    "\n",
    "# Standard Deviation\n",
    "std_deviation = stats.tstd(data)\n",
    "print(\"Standard Deviation:\", std_deviation)\n"
   ]
  },
  {
   "cell_type": "code",
   "execution_count": 5,
   "metadata": {},
   "outputs": [
    {
     "name": "stdout",
     "output_type": "stream",
     "text": [
      "Standard Deviation: 7.0710678118654755\n"
     ]
    }
   ],
   "source": [
    "# Example 5: Custom function for standard deviation\n",
    "def calculate_std_deviation(data):\n",
    "    mean_value = sum(data) / len(data)\n",
    "    variance = sum((x - mean_value) ** 2 for x in data) / len(data)\n",
    "    std_deviation = variance ** 0.5\n",
    "    return std_deviation\n",
    "\n",
    "data = [10, 15, 20, 25, 30]\n",
    "\n",
    "# Standard Deviation\n",
    "std_deviation = calculate_std_deviation(data)\n",
    "print(\"Standard Deviation:\", std_deviation)\n"
   ]
  },
  {
   "cell_type": "code",
   "execution_count": null,
   "metadata": {},
   "outputs": [],
   "source": []
  }
 ],
 "metadata": {
  "kernelspec": {
   "display_name": "Python 3",
   "language": "python",
   "name": "python3"
  },
  "language_info": {
   "codemirror_mode": {
    "name": "ipython",
    "version": 3
   },
   "file_extension": ".py",
   "mimetype": "text/x-python",
   "name": "python",
   "nbconvert_exporter": "python",
   "pygments_lexer": "ipython3",
   "version": "3.7.6"
  }
 },
 "nbformat": 4,
 "nbformat_minor": 4
}
