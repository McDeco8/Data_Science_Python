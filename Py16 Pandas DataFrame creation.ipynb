{
 "cells": [
  {
   "cell_type": "code",
   "execution_count": 1,
   "metadata": {},
   "outputs": [
    {
     "name": "stdout",
     "output_type": "stream",
     "text": [
      "DataFrame 1:\n",
      "      Name  Age\n",
      "0    Alice   25\n",
      "1      Bob   30\n",
      "2  Charlie   22\n"
     ]
    }
   ],
   "source": [
    "import pandas as pd\n",
    "\n",
    "# Example 1: Creating a DataFrame from a list of lists\n",
    "data = [['Alice', 25], ['Bob', 30], ['Charlie', 22]]\n",
    "columns = ['Name', 'Age']\n",
    "\n",
    "df1 = pd.DataFrame(data, columns=columns)\n",
    "print(\"DataFrame 1:\")\n",
    "print(df1)\n"
   ]
  },
  {
   "cell_type": "code",
   "execution_count": 2,
   "metadata": {},
   "outputs": [
    {
     "name": "stdout",
     "output_type": "stream",
     "text": [
      "DataFrame 2:\n",
      "      Name  Age\n",
      "0    Alice   25\n",
      "1      Bob   30\n",
      "2  Charlie   22\n"
     ]
    }
   ],
   "source": [
    "import pandas as pd\n",
    "\n",
    "# Example 2: Creating a DataFrame from a dictionary\n",
    "data = {'Name': ['Alice', 'Bob', 'Charlie'],\n",
    "        'Age': [25, 30, 22]}\n",
    "\n",
    "df2 = pd.DataFrame(data)\n",
    "print(\"DataFrame 2:\")\n",
    "print(df2)\n"
   ]
  },
  {
   "cell_type": "code",
   "execution_count": 3,
   "metadata": {},
   "outputs": [
    {
     "name": "stdout",
     "output_type": "stream",
     "text": [
      "DataFrame 3:\n",
      "  ID     Name\n",
      "0  1    Alice\n",
      "1  2      Bob\n",
      "2  3  Charlie\n"
     ]
    }
   ],
   "source": [
    "import pandas as pd\n",
    "import numpy as np\n",
    "\n",
    "# Example 3: Creating a DataFrame from a NumPy array\n",
    "data = np.array([[1, 'Alice'], [2, 'Bob'], [3, 'Charlie']])\n",
    "columns = ['ID', 'Name']\n",
    "\n",
    "df3 = pd.DataFrame(data, columns=columns)\n",
    "print(\"DataFrame 3:\")\n",
    "print(df3)\n"
   ]
  },
  {
   "cell_type": "code",
   "execution_count": 6,
   "metadata": {},
   "outputs": [
    {
     "name": "stdout",
     "output_type": "stream",
     "text": [
      "DataFrame 4:\n",
      "     Age Sex ChestPainType  RestingBP  Cholesterol  FastingBS RestingECG  \\\n",
      "0     40   M           ATA        140          289          0     Normal   \n",
      "1     49   F           NAP        160          180          0     Normal   \n",
      "2     37   M           ATA        130          283          0         ST   \n",
      "3     48   F           ASY        138          214          0     Normal   \n",
      "4     54   M           NAP        150          195          0     Normal   \n",
      "..   ...  ..           ...        ...          ...        ...        ...   \n",
      "913   45   M            TA        110          264          0     Normal   \n",
      "914   68   M           ASY        144          193          1     Normal   \n",
      "915   57   M           ASY        130          131          0     Normal   \n",
      "916   57   F           ATA        130          236          0        LVH   \n",
      "917   38   M           NAP        138          175          0     Normal   \n",
      "\n",
      "     MaxHR ExerciseAngina  Oldpeak ST_Slope  HeartDisease  \n",
      "0      172              N      0.0       Up             0  \n",
      "1      156              N      1.0     Flat             1  \n",
      "2       98              N      0.0       Up             0  \n",
      "3      108              Y      1.5     Flat             1  \n",
      "4      122              N      0.0       Up             0  \n",
      "..     ...            ...      ...      ...           ...  \n",
      "913    132              N      1.2     Flat             1  \n",
      "914    141              N      3.4     Flat             1  \n",
      "915    115              Y      1.2     Flat             1  \n",
      "916    174              N      0.0     Flat             1  \n",
      "917    173              N      0.0       Up             0  \n",
      "\n",
      "[918 rows x 12 columns]\n"
     ]
    }
   ],
   "source": [
    "import pandas as pd\n",
    "\n",
    "# Example 4: Creating a DataFrame from a CSV file\n",
    "csv_file_path = 'heart.csv'\n",
    "\n",
    "df4 = pd.read_csv(csv_file_path)\n",
    "print(\"DataFrame 4:\")\n",
    "print(df4)\n"
   ]
  },
  {
   "cell_type": "code",
   "execution_count": 5,
   "metadata": {},
   "outputs": [
    {
     "name": "stdout",
     "output_type": "stream",
     "text": [
      "DataFrame 5:\n",
      "             Column1   Column2\n",
      "2022-01-01  0.673067  1.344474\n",
      "2022-01-02 -1.417884 -1.076702\n",
      "2022-01-03 -1.380060 -0.126941\n"
     ]
    }
   ],
   "source": [
    "import pandas as pd\n",
    "import numpy as np\n",
    "\n",
    "# Example 5: Creating a DataFrame with date index\n",
    "date_index = pd.date_range('2022-01-01', periods=3, freq='D')\n",
    "data = np.random.randn(3, 2)  # Random data for illustration\n",
    "\n",
    "df5 = pd.DataFrame(data, index=date_index, columns=['Column1', 'Column2'])\n",
    "print(\"DataFrame 5:\")\n",
    "print(df5)\n"
   ]
  }
 ],
 "metadata": {
  "kernelspec": {
   "display_name": "Python 3",
   "language": "python",
   "name": "python3"
  },
  "language_info": {
   "codemirror_mode": {
    "name": "ipython",
    "version": 3
   },
   "file_extension": ".py",
   "mimetype": "text/x-python",
   "name": "python",
   "nbconvert_exporter": "python",
   "pygments_lexer": "ipython3",
   "version": "3.7.6"
  }
 },
 "nbformat": 4,
 "nbformat_minor": 4
}
