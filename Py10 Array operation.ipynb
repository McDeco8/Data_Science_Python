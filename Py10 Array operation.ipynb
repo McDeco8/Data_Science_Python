{
 "cells": [
  {
   "cell_type": "code",
   "execution_count": 1,
   "metadata": {},
   "outputs": [
    {
     "name": "stdout",
     "output_type": "stream",
     "text": [
      "Element-wise Addition: [ 7  9 11 13 15]\n",
      "Element-wise Multiplication: [ 6 14 24 36 50]\n"
     ]
    }
   ],
   "source": [
    "import numpy as np\n",
    "\n",
    "# Example 1: Element-wise operations\n",
    "arr1 = np.array([1, 2, 3, 4, 5])\n",
    "arr2 = np.array([6, 7, 8, 9, 10])\n",
    "\n",
    "# Element-wise addition\n",
    "result_addition = arr1 + arr2\n",
    "print(\"Element-wise Addition:\", result_addition)\n",
    "\n",
    "# Element-wise multiplication\n",
    "result_multiplication = arr1 * arr2\n",
    "print(\"Element-wise Multiplication:\", result_multiplication)\n"
   ]
  },
  {
   "cell_type": "code",
   "execution_count": 2,
   "metadata": {},
   "outputs": [
    {
     "name": "stdout",
     "output_type": "stream",
     "text": [
      "Matrix Multiplication: [[19 22]\n",
      " [43 50]]\n",
      "Matrix Element-wise Addition: [[ 6  8]\n",
      " [10 12]]\n"
     ]
    }
   ],
   "source": [
    "import numpy as np\n",
    "\n",
    "# Example 2: Matrix operations\n",
    "matrix1 = np.array([[1, 2], [3, 4]])\n",
    "matrix2 = np.array([[5, 6], [7, 8]])\n",
    "\n",
    "# Matrix multiplication\n",
    "result_matrix_mul = np.dot(matrix1, matrix2)\n",
    "print(\"Matrix Multiplication:\", result_matrix_mul)\n",
    "\n",
    "# Matrix element-wise addition\n",
    "result_matrix_addition = matrix1 + matrix2\n",
    "print(\"Matrix Element-wise Addition:\", result_matrix_addition)\n"
   ]
  },
  {
   "cell_type": "code",
   "execution_count": 3,
   "metadata": {},
   "outputs": [
    {
     "name": "stdout",
     "output_type": "stream",
     "text": [
      "Subarray: [3 4 5 6]\n",
      "Specific Elements: [2 4 8]\n"
     ]
    }
   ],
   "source": [
    "import numpy as np\n",
    "\n",
    "# Example 3: Array slicing and indexing\n",
    "arr = np.array([1, 2, 3, 4, 5, 6, 7, 8, 9])\n",
    "\n",
    "# Slicing to get a subarray\n",
    "subarray = arr[2:6]\n",
    "print(\"Subarray:\", subarray)\n",
    "\n",
    "# Indexing to get specific elements\n",
    "specific_elements = arr[[1, 3, 7]]\n",
    "print(\"Specific Elements:\", specific_elements)\n"
   ]
  },
  {
   "cell_type": "code",
   "execution_count": 4,
   "metadata": {},
   "outputs": [
    {
     "name": "stdout",
     "output_type": "stream",
     "text": [
      "Square Root: [1.         1.41421356 1.73205081 2.         2.23606798]\n",
      "Exponential: [  2.71828183   7.3890561   20.08553692  54.59815003 148.4131591 ]\n"
     ]
    }
   ],
   "source": [
    "import numpy as np\n",
    "\n",
    "# Example 4: Universal functions (ufunc)\n",
    "arr = np.array([1, 2, 3, 4, 5])\n",
    "\n",
    "# Square root of each element\n",
    "result_sqrt = np.sqrt(arr)\n",
    "print(\"Square Root:\", result_sqrt)\n",
    "\n",
    "# Exponential of each element\n",
    "result_exp = np.exp(arr)\n",
    "print(\"Exponential:\", result_exp)\n"
   ]
  },
  {
   "cell_type": "code",
   "execution_count": 5,
   "metadata": {},
   "outputs": [
    {
     "name": "stdout",
     "output_type": "stream",
     "text": [
      "Sum: 44\n",
      "Mean: 4.0\n"
     ]
    }
   ],
   "source": [
    "import numpy as np\n",
    "\n",
    "# Example 5: Aggregation functions\n",
    "arr = np.array([3, 1, 4, 1, 5, 9, 2, 6, 5, 3, 5])\n",
    "\n",
    "# Sum of array elements\n",
    "sum_result = np.sum(arr)\n",
    "print(\"Sum:\", sum_result)\n",
    "\n",
    "# Mean of array elements\n",
    "mean_result = np.mean(arr)\n",
    "print(\"Mean:\", mean_result)\n"
   ]
  },
  {
   "cell_type": "code",
   "execution_count": null,
   "metadata": {},
   "outputs": [],
   "source": []
  }
 ],
 "metadata": {
  "kernelspec": {
   "display_name": "Python 3",
   "language": "python",
   "name": "python3"
  },
  "language_info": {
   "codemirror_mode": {
    "name": "ipython",
    "version": 3
   },
   "file_extension": ".py",
   "mimetype": "text/x-python",
   "name": "python",
   "nbconvert_exporter": "python",
   "pygments_lexer": "ipython3",
   "version": "3.7.6"
  }
 },
 "nbformat": 4,
 "nbformat_minor": 4
}
