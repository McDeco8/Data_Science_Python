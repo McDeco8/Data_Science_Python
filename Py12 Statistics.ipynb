{
 "cells": [
  {
   "cell_type": "code",
   "execution_count": 1,
   "metadata": {},
   "outputs": [
    {
     "name": "stdout",
     "output_type": "stream",
     "text": [
      "Mean: 20.0\n",
      "Median: 20.0\n"
     ]
    }
   ],
   "source": [
    "import numpy as np\n",
    "\n",
    "# Example 1: Using NumPy for mean and median\n",
    "data = np.array([10, 15, 20, 25, 30])\n",
    "\n",
    "# Mean\n",
    "mean_value = np.mean(data)\n",
    "print(\"Mean:\", mean_value)\n",
    "\n",
    "# Median\n",
    "median_value = np.median(data)\n",
    "print(\"Median:\", median_value)\n"
   ]
  },
  {
   "cell_type": "code",
   "execution_count": 2,
   "metadata": {},
   "outputs": [
    {
     "name": "stdout",
     "output_type": "stream",
     "text": [
      "Mean: 19.166666666666668\n",
      "Median: 17.5\n",
      "Mode: 15\n"
     ]
    }
   ],
   "source": [
    "import statistics\n",
    "\n",
    "# Example 2: Using statistics module for mean, median, and mode\n",
    "data = [10, 15, 20, 25, 30, 15]\n",
    "\n",
    "# Mean\n",
    "mean_value = statistics.mean(data)\n",
    "print(\"Mean:\", mean_value)\n",
    "\n",
    "# Median\n",
    "median_value = statistics.median(data)\n",
    "print(\"Median:\", median_value)\n",
    "\n",
    "# Mode\n",
    "mode_value = statistics.mode(data)\n",
    "print(\"Mode:\", mode_value)\n"
   ]
  },
  {
   "cell_type": "code",
   "execution_count": 3,
   "metadata": {},
   "outputs": [
    {
     "name": "stdout",
     "output_type": "stream",
     "text": [
      "Mean: 20.0\n",
      "Median: 20.0\n"
     ]
    }
   ],
   "source": [
    "import pandas as pd\n",
    "\n",
    "# Example 3: Using Pandas for mean and median\n",
    "data = pd.Series([10, 15, 20, 25, 30])\n",
    "\n",
    "# Mean\n",
    "mean_value = data.mean()\n",
    "print(\"Mean:\", mean_value)\n",
    "\n",
    "# Median\n",
    "median_value = data.median()\n",
    "print(\"Median:\", median_value)\n"
   ]
  },
  {
   "cell_type": "code",
   "execution_count": 4,
   "metadata": {},
   "outputs": [
    {
     "name": "stdout",
     "output_type": "stream",
     "text": [
      "Mode: 15\n"
     ]
    }
   ],
   "source": [
    "from scipy import stats\n",
    "\n",
    "# Example 4: Using Scipy for mode\n",
    "data = [10, 15, 20, 25, 30, 15]\n",
    "\n",
    "# Mode\n",
    "mode_value = stats.mode(data)\n",
    "print(\"Mode:\", mode_value.mode[0])\n"
   ]
  },
  {
   "cell_type": "code",
   "execution_count": 5,
   "metadata": {},
   "outputs": [
    {
     "name": "stdout",
     "output_type": "stream",
     "text": [
      "Mean: 19.166666666666668\n",
      "Median: 17.5\n",
      "Mode: [15]\n"
     ]
    }
   ],
   "source": [
    "# Example 5: Custom functions for mean, median, and mode\n",
    "def calculate_mean(data):\n",
    "    return sum(data) / len(data)\n",
    "\n",
    "def calculate_median(data):\n",
    "    sorted_data = sorted(data)\n",
    "    n = len(sorted_data)\n",
    "    middle = n // 2\n",
    "    if n % 2 == 0:\n",
    "        return (sorted_data[middle - 1] + sorted_data[middle]) / 2\n",
    "    else:\n",
    "        return sorted_data[middle]\n",
    "\n",
    "def calculate_mode(data):\n",
    "    freq_dict = {}\n",
    "    for item in data:\n",
    "        if item in freq_dict:\n",
    "            freq_dict[item] += 1\n",
    "        else:\n",
    "            freq_dict[item] = 1\n",
    "    mode_list = [k for k, v in freq_dict.items() if v == max(freq_dict.values())]\n",
    "    return mode_list\n",
    "\n",
    "data = [10, 15, 20, 25, 30, 15]\n",
    "\n",
    "# Mean\n",
    "mean_value = calculate_mean(data)\n",
    "print(\"Mean:\", mean_value)\n",
    "\n",
    "# Median\n",
    "median_value = calculate_median(data)\n",
    "print(\"Median:\", median_value)\n",
    "\n",
    "# Mode\n",
    "mode_value = calculate_mode(data)\n",
    "print(\"Mode:\", mode_value)\n"
   ]
  }
 ],
 "metadata": {
  "kernelspec": {
   "display_name": "Python 3",
   "language": "python",
   "name": "python3"
  },
  "language_info": {
   "codemirror_mode": {
    "name": "ipython",
    "version": 3
   },
   "file_extension": ".py",
   "mimetype": "text/x-python",
   "name": "python",
   "nbconvert_exporter": "python",
   "pygments_lexer": "ipython3",
   "version": "3.7.6"
  }
 },
 "nbformat": 4,
 "nbformat_minor": 4
}
